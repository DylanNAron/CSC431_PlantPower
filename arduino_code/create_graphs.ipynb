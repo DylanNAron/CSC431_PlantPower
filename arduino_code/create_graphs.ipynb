{
 "cells": [
  {
   "cell_type": "code",
   "execution_count": 35,
   "metadata": {},
   "outputs": [
    {
     "data": {
      "text/html": [
       "<div>\n",
       "<style scoped>\n",
       "    .dataframe tbody tr th:only-of-type {\n",
       "        vertical-align: middle;\n",
       "    }\n",
       "\n",
       "    .dataframe tbody tr th {\n",
       "        vertical-align: top;\n",
       "    }\n",
       "\n",
       "    .dataframe thead th {\n",
       "        text-align: right;\n",
       "    }\n",
       "</style>\n",
       "<table border=\"1\" class=\"dataframe\">\n",
       "  <thead>\n",
       "    <tr style=\"text-align: right;\">\n",
       "      <th></th>\n",
       "      <th>80.14</th>\n",
       "      <th>48.04</th>\n",
       "      <th>165.81</th>\n",
       "    </tr>\n",
       "  </thead>\n",
       "  <tbody>\n",
       "    <tr>\n",
       "      <th>0</th>\n",
       "      <td>80.11</td>\n",
       "      <td>48.13</td>\n",
       "      <td>166.45</td>\n",
       "    </tr>\n",
       "    <tr>\n",
       "      <th>1</th>\n",
       "      <td>80.04</td>\n",
       "      <td>47.99</td>\n",
       "      <td>169.03</td>\n",
       "    </tr>\n",
       "    <tr>\n",
       "      <th>2</th>\n",
       "      <td>80.08</td>\n",
       "      <td>48.08</td>\n",
       "      <td>170.97</td>\n",
       "    </tr>\n",
       "    <tr>\n",
       "      <th>3</th>\n",
       "      <td>80.14</td>\n",
       "      <td>47.98</td>\n",
       "      <td>174.19</td>\n",
       "    </tr>\n",
       "    <tr>\n",
       "      <th>4</th>\n",
       "      <td>80.04</td>\n",
       "      <td>47.95</td>\n",
       "      <td>183.23</td>\n",
       "    </tr>\n",
       "  </tbody>\n",
       "</table>\n",
       "</div>"
      ],
      "text/plain": [
       "   80.14  48.04  165.81\n",
       "0  80.11  48.13  166.45\n",
       "1  80.04  47.99  169.03\n",
       "2  80.08  48.08  170.97\n",
       "3  80.14  47.98  174.19\n",
       "4  80.04  47.95  183.23"
      ]
     },
     "execution_count": 35,
     "metadata": {},
     "output_type": "execute_result"
    }
   ],
   "source": [
    "import pandas as pd\n",
    "from matplotlib import pyplot as plt\n",
    "df = pd.read_csv(\"C:/Users/Jorge/Documents/CSC/CSC_431_Software/CSC431_PlantPower/arduino_code/sensor_data.csv\")\n",
    "df.head()"
   ]
  },
  {
   "cell_type": "code",
   "execution_count": 36,
   "metadata": {},
   "outputs": [],
   "source": [
    "# adding header\n",
    "headerList = ['Temperature', 'Humidity', 'Illuminance']\n",
    "\n",
    "\n",
    "  \n",
    "# converting data frame to csv\n",
    "df.to_csv(\"data_with_headers.csv\", header=headerList, index=False)"
   ]
  },
  {
   "cell_type": "code",
   "execution_count": 37,
   "metadata": {},
   "outputs": [
    {
     "name": "stdout",
     "output_type": "stream",
     "text": [
      "[0, 1, 2, 3, 4, 5, 6, 7, 8]\n"
     ]
    }
   ],
   "source": [
    "# add time column to fit with data\n",
    "time = []\n",
    "i = 0\n",
    "for i in range(9):\n",
    "    time.append(i)\n",
    "    \n",
    "print(time)"
   ]
  },
  {
   "cell_type": "code",
   "execution_count": 38,
   "metadata": {},
   "outputs": [],
   "source": [
    "df2 = pd.read_csv(\"C:/Users/Jorge/Documents/CSC/CSC_431_Software/CSC431_PlantPower/arduino_code/data_with_headers.csv\")"
   ]
  },
  {
   "cell_type": "code",
   "execution_count": 39,
   "metadata": {},
   "outputs": [
    {
     "name": "stdout",
     "output_type": "stream",
     "text": [
      "   Temperature  Humidity  Illuminance  Time\n",
      "0        80.11     48.13       166.45     0\n",
      "1        80.04     47.99       169.03     1\n",
      "2        80.08     48.08       170.97     2\n",
      "3        80.14     47.98       174.19     3\n",
      "4        80.04     47.95       183.23     4\n",
      "5        80.08     47.88       194.84     5\n",
      "6        80.14     47.84       210.97     6\n",
      "7        80.17     47.77       229.03     7\n",
      "8        80.14     47.62       246.45     8\n"
     ]
    }
   ],
   "source": [
    "df2['Time'] = time\n",
    "print(df2)"
   ]
  },
  {
   "cell_type": "code",
   "execution_count": 40,
   "metadata": {},
   "outputs": [],
   "source": [
    "x = df2['Time']\n",
    "y = df2['Temperature']"
   ]
  },
  {
   "cell_type": "code",
   "execution_count": 45,
   "metadata": {},
   "outputs": [
    {
     "data": {
      "image/png": "[encoded data removed]",
      "text/plain": [
       "<Figure size 432x288 with 1 Axes>"
      ]
     },
     "metadata": {
      "needs_background": "light"
     },
     "output_type": "display_data"
    }
   ],
   "source": [
    "plt.plot(x, y)\n",
    "plt.xlabel(\"Time\")\n",
    "plt.ylabel(\"Temperature\")\n",
    "#save the temp graph into a png\n",
    "plt.savefig('temp_graph.png')"
   ]
  },
  {
   "cell_type": "code",
   "execution_count": null,
   "metadata": {},
   "outputs": [],
   "source": []
  }
 ],
 "metadata": {
  "kernelspec": {
   "display_name": "Python 3",
   "language": "python",
   "name": "python3"
  },
  "language_info": {
   "codemirror_mode": {
    "name": "ipython",
    "version": 3
   },
   "file_extension": ".py",
   "mimetype": "text/x-python",
   "name": "python",
   "nbconvert_exporter": "python",
   "pygments_lexer": "ipython3",
   "version": "3.8.5"
  }
 },
 "nbformat": 4,
 "nbformat_minor": 4
}
